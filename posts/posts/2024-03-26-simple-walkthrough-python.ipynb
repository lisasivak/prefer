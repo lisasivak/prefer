{
  "cells": [
    {
      "cell_type": "raw",
      "metadata": {},
      "source": [
        "---\n",
        "title: \"A walkthough of submitting a simple model in python\"\n",
        "description: |\n",
        "  Here we show the steps for submitting a simple model in `python`\n",
        "categories:\n",
        "  - dataset\n",
        "  - guide\n",
        "author: \n",
        "  - \"Gert Stulp\"\n",
        "  - \"Lisa Sivak\"\n",
        "date: '2024-03-26'\n",
        "toc: true\n",
        "image: ../../images/liss_pick.png\n",
        "image-alt: LISS logo. \n",
        "language: \n",
        "    section-title-footnotes: References\n",
        "---"
      ],
      "id": "3e95ee34"
    },
    {
      "cell_type": "markdown",
      "metadata": {},
      "source": [
        "Here we describe how to prepare and make a submission for Python users.  \n",
        "\n",
        "Disclaimer: the data preprocessing and the model that we will train here is very basic. You should not use it as an example of how to properly train a model (e.g. imputing missing values with a mean or mode is often a bad idea). The sole purpose of this script is to make the submission process more clear.  \n",
        "\n",
        "In this example we assume that you are using [GitHub Desktop](https://docs.github.com/en/desktop), which is a very convenient tool for updating your github repository. [Here](https://github.com/eyra/fertility-prediction-challenge/wiki) you can find useful links how to use GitHub Desktop for cloning your repository and for update the files in it.  \n",
        "\n",
        "We also assume that you did all the prerequisite steps described   [here](https://github.com/eyra/fertility-prediction-challenge?tab=readme-ov-file#prerequisites){target=\"_blank\"}.\n",
        "\n",
        "Let's imagine that you want to add one predictor to the model that is already in the repository -- highest education level (variable \"oplmet_2020\", as you found using the codebooks). You can edit the scripts that are already in the repository to preprocess the data and train and save such a model.\n",
        "\n",
        "Steps:  \n",
        "\n",
        "1. Go to your cloned folder and open \"training.py\" script in the environment that you normally use for python. This is the script that you should update to produce a model.    \n",
        "\n",
        "2. Copy paste the \"clean_df\" function from the \"submission.py\" script. Add the variable that you want to add and impute missing values.   \n",
        "This is what we have now in this function:\n"
      ],
      "id": "14446397"
    },
    {
      "cell_type": "code",
      "metadata": {},
      "source": [
        "# List your libraries and modules here. Don't forget to update environment.yml if you use packages that are not there!\n",
        "import pandas as pd\n",
        "from sklearn.linear_model import LogisticRegression\n",
        "import joblib\n",
        "\n",
        "\n",
        "def clean_df(df, background_df=None):\n",
        "    \"\"\"\n",
        "    Preprocess the input dataframe to feed the model.\n",
        "    # If no cleaning is done (e.g. if all the cleaning is done in a pipeline) leave only the \"return df\" command\n",
        "\n",
        "    Parameters:\n",
        "    df (pd.DataFrame): The input dataframe containing the raw data (e.g., from PreFer_train_data.csv or PreFer_fake_data.csv).\n",
        "    background (pd.DataFrame): Optional input dataframe containing background data (e.g., from PreFer_train_background_data.csv or PreFer_fake_background_data.csv).\n",
        "\n",
        "    Returns:\n",
        "    pd.DataFrame: The cleaned dataframe with only the necessary columns and processed variables.\n",
        "    \"\"\"\n",
        "\n",
        "    ## This script contains a bare minimum working example\n",
        "    # Create new variable with age\n",
        "    df[\"age\"] = 2024 - df[\"birthyear_bg\"]\n",
        "\n",
        "    # Imputing missing values in age with the mean\n",
        "    df[\"age\"] = df[\"age\"].fillna(df[\"age\"].mean())\n",
        "    \n",
        "    # Imputing missing values in education (oplmet_2020) with the mode \n",
        "    df[\"oplmet2020\"] = df[\"oplmet2020\"].fillna(df[\"oplmet2020\"].mode()) # <----- that's what we added!\n",
        "\n",
        "    # Selecting variables for modelling\n",
        "    keepcols = [\n",
        "        \"nomem_encr\",  # ID variable required for predictions,\n",
        "        \"age\"          # newly created variable\n",
        "    ] \n",
        "\n",
        "    # Keeping data with variables selected\n",
        "    df = df[keepcols]\n",
        "\n",
        "    return df"
      ],
      "id": "7779877a",
      "execution_count": null,
      "outputs": []
    },
    {
      "cell_type": "markdown",
      "metadata": {},
      "source": [
        "(add the note about importance of using the same versions of packages and updating the environment.yml)"
      ],
      "id": "236eb5f7"
    }
  ],
  "metadata": {
    "kernelspec": {
      "display_name": "Python 3",
      "language": "python",
      "name": "python3"
    }
  },
  "nbformat": 4,
  "nbformat_minor": 5
}